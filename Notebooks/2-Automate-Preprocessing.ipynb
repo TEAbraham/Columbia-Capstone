{
 "cells": [
  {
   "cell_type": "markdown",
   "metadata": {},
   "source": [
    "# Capstone Week 2\n",
    "---"
   ]
  },
  {
   "cell_type": "markdown",
   "metadata": {},
   "source": [
    "# Index\n",
    "- [Capstone Objectives](#Capstone-Objectives)\n",
    "- [Read in Data](#Read-in-Data)\n",
    "    - [Make advisor dictionary mapper](#Make-advisor-dictionary-mapper)\n",
    "- [Data Cleaning](#Data-Cleaning)\n",
    "    - [Train-Test-Split](#Train-Test-Split)\n",
    "    - [Custom Cleaning Functions](#Custom-Cleaning-Functions)\n",
    "    - [Create Cleaning Pipeline](#Create-Cleaning-Pipeline)\n",
    "- [Model building](#Model-building)\n",
    "- [Make predictions](#Make-predictions)\n",
    "- [Feature Engineering](#Feature-Engineering)\n",
    "    - [Variable Inflation Factor (VIF)](#Variable-Inflation-Factor-(VIF))\n",
    "- [Residuals](#Residuals)\n",
    "- [Classification](#Classification)\n",
    "- [Model Interpretation](#Model-Interpretation)"
   ]
  },
  {
   "cell_type": "markdown",
   "metadata": {},
   "source": [
    "# Capstone Objectives\n",
    "- Assist sales and marketing by improving their targeting\n",
    "- Predict sales for 2019 using the data for 2018\n",
    "- Estimate the probability of adding a new fund in 2019"
   ]
  },
  {
   "cell_type": "code",
   "execution_count": 1,
   "metadata": {},
   "outputs": [],
   "source": [
    "import numpy as np\n",
    "import pandas as pd\n",
    "import matplotlib.pyplot as plt\n",
    "\n",
    "from sklearn.model_selection import train_test_split\n",
    "from sklearn.preprocessing import StandardScaler\n",
    "from sklearn.linear_model import LinearRegression\n",
    "from sklearn.ensemble import GradientBoostingRegressor, RandomForestRegressor\n",
    "\n",
    "pd.set_option('display.max_columns', 50)"
   ]
  },
  {
   "cell_type": "markdown",
   "metadata": {},
   "source": [
    "[Back to Top](#Index)\n",
    "# Read in Data"
   ]
  },
  {
   "cell_type": "code",
   "execution_count": 2,
   "metadata": {},
   "outputs": [],
   "source": [
    "# df = pd.read_excel(\n",
    "#     '../Transaction_Data_20210128.xlsx', \n",
    "#     sheet_name='36 Rolling Months',\n",
    "#     usecols='B:AN',\n",
    "#     header=1,\n",
    "#     skiprows=0\n",
    "# )\n",
    "# df.to_csv('../Transactions.csv', index=False)"
   ]
  },
  {
   "cell_type": "code",
   "execution_count": null,
   "metadata": {},
   "outputs": [],
   "source": [
    "df = pd.read_csv('../Transactions.csv', parse_dates=['refresh_date'])\n",
    "df.head()"
   ]
  },
  {
   "cell_type": "code",
   "execution_count": null,
   "metadata": {},
   "outputs": [],
   "source": [
    "firms = pd.read_csv(\"../Firms.csv\")"
   ]
  },
  {
   "cell_type": "markdown",
   "metadata": {},
   "source": [
    "## Make advisor dictionary mapper"
   ]
  },
  {
   "cell_type": "code",
   "execution_count": 8,
   "metadata": {},
   "outputs": [],
   "source": [
    "adviser_lookup = {\n",
    "    idx: contact_id \n",
    "        for idx, contact_id in enumerate(df['CONTACT_ID'])\n",
    "}"
   ]
  },
  {
   "cell_type": "code",
   "execution_count": 9,
   "metadata": {},
   "outputs": [
    {
     "data": {
      "text/plain": [
       "'0082583'"
      ]
     },
     "execution_count": 9,
     "metadata": {},
     "output_type": "execute_result"
    }
   ],
   "source": [
    "adviser_lookup[10]"
   ]
  },
  {
   "cell_type": "markdown",
   "metadata": {},
   "source": [
    "# Combine `sales_curr` and `sales_12M`"
   ]
  },
  {
   "cell_type": "code",
   "execution_count": 10,
   "metadata": {},
   "outputs": [],
   "source": [
    "df['total_sales'] = df['sales_curr'] + df['sales_12M']"
   ]
  },
  {
   "cell_type": "markdown",
   "metadata": {},
   "source": [
    "# Data Cleaning"
   ]
  },
  {
   "cell_type": "markdown",
   "metadata": {},
   "source": [
    "Before you change ANYTHING with the data - besides the above :) - do your train-test split"
   ]
  },
  {
   "cell_type": "code",
   "execution_count": 11,
   "metadata": {},
   "outputs": [],
   "source": [
    "FEATURES = [\n",
    "    'CONTACT_ID', 'no_of_sales_12M_1', 'no_of_Redemption_12M_1',\n",
    "    'no_of_sales_12M_10K', 'no_of_Redemption_12M_10K',\n",
    "    'no_of_funds_sold_12M_1', 'no_of_funds_redeemed_12M_1',\n",
    "    'no_of_fund_sales_12M_10K', 'no_of_funds_Redemption_12M_10K',\n",
    "    'no_of_assetclass_sold_12M_1', 'no_of_assetclass_redeemed_12M_1',\n",
    "    'no_of_assetclass_sales_12M_10K', 'no_of_assetclass_Redemption_12M_10K',\n",
    "    'No_of_fund_curr', 'No_of_asset_curr', 'AUM', 'sales_curr', 'sales_12M',\n",
    "    'redemption_curr', 'redemption_12M', 'new_Fund_added_12M',\n",
    "    'redemption_rate', 'aum_AC_EQUITY', 'aum_AC_FIXED_INCOME_MUNI',\n",
    "    'aum_AC_FIXED_INCOME_TAXABLE', 'aum_AC_MONEY', 'aum_AC_MULTIPLE',\n",
    "    'aum_AC_PHYSICAL_COMMODITY', 'aum_AC_REAL_ESTATE', 'aum_AC_TARGET',\n",
    "    'aum_P_529', 'aum_P_ALT', 'aum_P_CEF', 'aum_P_ETF', 'aum_P_MF',\n",
    "    'aum_P_SMA', 'aum_P_UCITS', 'aum_P_UIT', 'refresh_date',\n",
    "]\n",
    "TARGETS = 'total_sales'"
   ]
  },
  {
   "cell_type": "markdown",
   "metadata": {},
   "source": [
    "## Partition training and testing"
   ]
  },
  {
   "cell_type": "code",
   "execution_count": 12,
   "metadata": {},
   "outputs": [],
   "source": [
    "training_rows = df['refresh_date'].dt.year.isin([2017, 2018, 2019])\n",
    "testing_rows = df['refresh_date'].dt.year.isin([2020])\n",
    "\n",
    "X = df.loc[training_rows, FEATURES].copy()\n",
    "y_reg = df.loc[training_rows, TARGETS].copy()\n",
    "y_cl = df.loc[training_rows, 'new_Fund_added_12M'].copy()\n",
    "\n",
    "y_holdout_test = df.loc[testing_rows, TARGETS].copy() # forget about this for now"
   ]
  },
  {
   "cell_type": "markdown",
   "metadata": {},
   "source": [
    "[Back to Top](#Index)\n",
    "# Data Cleaning"
   ]
  },
  {
   "cell_type": "code",
   "execution_count": 13,
   "metadata": {},
   "outputs": [],
   "source": [
    "# make a variable to keep all of the columns we want to drop\n",
    "COLS_TO_DROP = [\n",
    "    'CONTACT_ID', 'sales_curr', 'sales_12M', \n",
    "    'refresh_date', 'new_Fund_added_12M','no_of_Redemption_12M_1',\n",
    "]\n",
    "\n",
    "COLS_TO_KEEP = [\n",
    "    'no_of_sales_12M_1', \n",
    "    'no_of_sales_12M_10K', 'no_of_Redemption_12M_10K',\n",
    "    'no_of_funds_sold_12M_1', 'no_of_funds_redeemed_12M_1',\n",
    "    'no_of_fund_sales_12M_10K', 'no_of_funds_Redemption_12M_10K',\n",
    "    'no_of_assetclass_sold_12M_1', 'no_of_assetclass_redeemed_12M_1',\n",
    "    'no_of_assetclass_sales_12M_10K', 'no_of_assetclass_Redemption_12M_10K',\n",
    "    'No_of_fund_curr', 'No_of_asset_curr', 'AUM', 'redemption_curr', \n",
    "    'redemption_12M', 'redemption_rate', 'aum_AC_EQUITY', \n",
    "    'aum_AC_FIXED_INCOME_MUNI', 'aum_AC_FIXED_INCOME_TAXABLE', 'aum_AC_MONEY', \n",
    "    'aum_AC_MULTIPLE', 'aum_AC_PHYSICAL_COMMODITY', 'aum_AC_REAL_ESTATE', \n",
    "    'aum_AC_TARGET', 'aum_P_529', 'aum_P_ALT', 'aum_P_CEF', 'aum_P_ETF', \n",
    "    'aum_P_MF', 'aum_P_SMA', 'aum_P_UCITS', 'aum_P_UIT',\n",
    "]"
   ]
  },
  {
   "cell_type": "markdown",
   "metadata": {},
   "source": [
    "## Train-Test-Split"
   ]
  },
  {
   "cell_type": "code",
   "execution_count": 14,
   "metadata": {},
   "outputs": [],
   "source": [
    "from sklearn.model_selection import train_test_split"
   ]
  },
  {
   "cell_type": "code",
   "execution_count": 15,
   "metadata": {},
   "outputs": [],
   "source": [
    "X_train, X_test, y_train_reg, y_test_reg = train_test_split(\n",
    "    X, y_reg, test_size=0.3, random_state=24\n",
    ")\n",
    "y_train_cl, y_test_cl = y_cl[y_train_reg.index], y_cl[y_test_reg.index]"
   ]
  },
  {
   "cell_type": "markdown",
   "metadata": {},
   "source": [
    "## Custom Cleaning Functions"
   ]
  },
  {
   "cell_type": "markdown",
   "metadata": {},
   "source": [
    "Let's create functions that do some basic housekeeping"
   ]
  },
  {
   "cell_type": "code",
   "execution_count": 16,
   "metadata": {},
   "outputs": [],
   "source": [
    "def extract_columns(df):\n",
    "    '''extract out columns not listed in COLS_TO_DROP variable'''\n",
    "    cols_to_keep = [col for col in df.columns if col not in COLS_TO_DROP]\n",
    "    return df.loc[:, cols_to_keep].copy()\n",
    "\n",
    "\n",
    "def fillna_values(df):\n",
    "    '''fill nan values with zero'''\n",
    "    if isinstance(df, type(pd.Series(dtype='float64'))):\n",
    "        return df.fillna(0)\n",
    "    num_df = df.select_dtypes(include=['number']).fillna(0)\n",
    "    non_num_df = df.select_dtypes(exclude=['number'])\n",
    "    return pd.concat([num_df, non_num_df], axis=1)\n",
    "\n",
    "\n",
    "def negative_to_zero(series):\n",
    "    if isinstance(series, type(pd.Series(dtype='float64'))):\n",
    "        return series.apply(lambda x: max(0, x))\n",
    "    else:\n",
    "        return series"
   ]
  },
  {
   "cell_type": "markdown",
   "metadata": {},
   "source": [
    "[Back to Top](#Index)\n",
    "## Create Cleaning Pipeline\n",
    "\n",
    "- Pipeline for target variable\n",
    "- Pipeline for features"
   ]
  },
  {
   "cell_type": "code",
   "execution_count": 17,
   "metadata": {},
   "outputs": [],
   "source": [
    "from sklearn.pipeline import Pipeline\n",
    "from sklearn.preprocessing import FunctionTransformer\n",
    "from sklearn.preprocessing import StandardScaler"
   ]
  },
  {
   "cell_type": "code",
   "execution_count": 18,
   "metadata": {},
   "outputs": [],
   "source": [
    "extract_columns_trans = FunctionTransformer(extract_columns)\n",
    "fillna_values_trans = FunctionTransformer(fillna_values)\n",
    "negative_to_zero_trans = FunctionTransformer(negative_to_zero)"
   ]
  },
  {
   "cell_type": "markdown",
   "metadata": {},
   "source": [
    "Make pipeline for regression target variable"
   ]
  },
  {
   "cell_type": "code",
   "execution_count": 19,
   "metadata": {},
   "outputs": [],
   "source": [
    "targ_pipe_reg = Pipeline([\n",
    "    ('fillna_values_trans', fillna_values_trans),\n",
    "    ('negative_to_zero_trans', negative_to_zero_trans)\n",
    "])\n",
    "\n",
    "y_train_reg = targ_pipe_reg.fit_transform(y_train_reg.to_frame()).squeeze()\n",
    "y_test_reg = targ_pipe_reg.transform(y_test_reg.to_frame()).squeeze()"
   ]
  },
  {
   "cell_type": "code",
   "execution_count": 20,
   "metadata": {},
   "outputs": [
    {
     "data": {
      "text/plain": [
       "228198    269083.425\n",
       "240133      3578.970\n",
       "163658      9497.900\n",
       "176954         0.000\n",
       "69498      30529.080\n",
       "Name: total_sales, dtype: float64"
      ]
     },
     "execution_count": 20,
     "metadata": {},
     "output_type": "execute_result"
    }
   ],
   "source": [
    "y_test_reg.head()"
   ]
  },
  {
   "cell_type": "markdown",
   "metadata": {},
   "source": [
    "Transform the classification target"
   ]
  },
  {
   "cell_type": "code",
   "execution_count": 21,
   "metadata": {},
   "outputs": [
    {
     "data": {
      "text/plain": [
       "228198    1\n",
       "240133    1\n",
       "163658    1\n",
       "176954    0\n",
       "69498     1\n",
       "         ..\n",
       "239268    0\n",
       "116033    0\n",
       "238773    1\n",
       "7527      1\n",
       "11875     0\n",
       "Length: 75075, dtype: int64"
      ]
     },
     "execution_count": 21,
     "metadata": {},
     "output_type": "execute_result"
    }
   ],
   "source": [
    "from sklearn.preprocessing import Binarizer\n",
    "\n",
    "targ_pipe_cl = Pipeline([\n",
    "    ('fillna_values_trans', fillna_values_trans),\n",
    "    ('Binarizer', Binarizer(threshold=0))\n",
    "])\n",
    "\n",
    "y_train_cl = pd.Series(\n",
    "    targ_pipe_cl\n",
    "        .fit_transform(y_train_cl.to_frame())\n",
    "        .reshape(-1), index=y_train_cl.index)\n",
    "y_test_cl = pd.Series(\n",
    "    targ_pipe_cl\n",
    "        .transform(y_test_cl.to_frame())\n",
    "        .reshape(-1), index=y_test_cl.index)\n",
    "y_test_cl"
   ]
  },
  {
   "cell_type": "markdown",
   "metadata": {},
   "source": [
    "Create the pipeline for the features"
   ]
  },
  {
   "cell_type": "code",
   "execution_count": 22,
   "metadata": {},
   "outputs": [],
   "source": [
    "feat_pipe = Pipeline([\n",
    "    ('extract_columns_trans', extract_columns_trans),\n",
    "    ('fillna_values_trans', fillna_values_trans),\n",
    "    ('StandardScaler', StandardScaler()),\n",
    "])\n",
    "\n",
    "X_train_prepared = feat_pipe.fit(X_train).transform(X_train)\n",
    "X_test_prepared = feat_pipe.transform(X_test)"
   ]
  },
  {
   "cell_type": "markdown",
   "metadata": {},
   "source": [
    "**TRANSFORM** Test set"
   ]
  },
  {
   "cell_type": "code",
   "execution_count": 23,
   "metadata": {},
   "outputs": [],
   "source": [
    "X_train_prepared = pd.DataFrame(\n",
    "    X_train_prepared,\n",
    "    index=X_train.index,\n",
    "    columns=COLS_TO_KEEP\n",
    ")\n",
    "\n",
    "X_test_prepared = pd.DataFrame(\n",
    "    feat_pipe.transform(X_test),\n",
    "    index=X_test.index,\n",
    "    columns=COLS_TO_KEEP\n",
    ")"
   ]
  },
  {
   "cell_type": "code",
   "execution_count": 24,
   "metadata": {},
   "outputs": [
    {
     "data": {
      "text/html": [
       "<div>\n",
       "<style scoped>\n",
       "    .dataframe tbody tr th:only-of-type {\n",
       "        vertical-align: middle;\n",
       "    }\n",
       "\n",
       "    .dataframe tbody tr th {\n",
       "        vertical-align: top;\n",
       "    }\n",
       "\n",
       "    .dataframe thead th {\n",
       "        text-align: right;\n",
       "    }\n",
       "</style>\n",
       "<table border=\"1\" class=\"dataframe\">\n",
       "  <thead>\n",
       "    <tr style=\"text-align: right;\">\n",
       "      <th></th>\n",
       "      <th>no_of_sales_12M_1</th>\n",
       "      <th>no_of_sales_12M_10K</th>\n",
       "      <th>no_of_Redemption_12M_10K</th>\n",
       "      <th>no_of_funds_sold_12M_1</th>\n",
       "      <th>no_of_funds_redeemed_12M_1</th>\n",
       "      <th>no_of_fund_sales_12M_10K</th>\n",
       "      <th>no_of_funds_Redemption_12M_10K</th>\n",
       "      <th>no_of_assetclass_sold_12M_1</th>\n",
       "      <th>no_of_assetclass_redeemed_12M_1</th>\n",
       "      <th>no_of_assetclass_sales_12M_10K</th>\n",
       "      <th>no_of_assetclass_Redemption_12M_10K</th>\n",
       "      <th>No_of_fund_curr</th>\n",
       "      <th>No_of_asset_curr</th>\n",
       "      <th>AUM</th>\n",
       "      <th>redemption_curr</th>\n",
       "      <th>redemption_12M</th>\n",
       "      <th>redemption_rate</th>\n",
       "      <th>aum_AC_EQUITY</th>\n",
       "      <th>aum_AC_FIXED_INCOME_MUNI</th>\n",
       "      <th>aum_AC_FIXED_INCOME_TAXABLE</th>\n",
       "      <th>aum_AC_MONEY</th>\n",
       "      <th>aum_AC_MULTIPLE</th>\n",
       "      <th>aum_AC_PHYSICAL_COMMODITY</th>\n",
       "      <th>aum_AC_REAL_ESTATE</th>\n",
       "      <th>aum_AC_TARGET</th>\n",
       "      <th>aum_P_529</th>\n",
       "      <th>aum_P_ALT</th>\n",
       "      <th>aum_P_CEF</th>\n",
       "      <th>aum_P_ETF</th>\n",
       "      <th>aum_P_MF</th>\n",
       "      <th>aum_P_SMA</th>\n",
       "      <th>aum_P_UCITS</th>\n",
       "      <th>aum_P_UIT</th>\n",
       "    </tr>\n",
       "  </thead>\n",
       "  <tbody>\n",
       "    <tr>\n",
       "      <th>228198</th>\n",
       "      <td>0.419353</td>\n",
       "      <td>-0.022344</td>\n",
       "      <td>-0.131470</td>\n",
       "      <td>2.023584</td>\n",
       "      <td>0.626532</td>\n",
       "      <td>0.340508</td>\n",
       "      <td>-0.437077</td>\n",
       "      <td>2.278578</td>\n",
       "      <td>2.054430</td>\n",
       "      <td>0.908770</td>\n",
       "      <td>-0.553380</td>\n",
       "      <td>0.908777</td>\n",
       "      <td>1.979170</td>\n",
       "      <td>0.019918</td>\n",
       "      <td>0.068295</td>\n",
       "      <td>0.089322</td>\n",
       "      <td>0.004082</td>\n",
       "      <td>0.041528</td>\n",
       "      <td>-0.006796</td>\n",
       "      <td>0.093585</td>\n",
       "      <td>-0.006865</td>\n",
       "      <td>-0.022982</td>\n",
       "      <td>-0.038146</td>\n",
       "      <td>-0.028802</td>\n",
       "      <td>-0.041777</td>\n",
       "      <td>-0.075385</td>\n",
       "      <td>-0.025897</td>\n",
       "      <td>-0.086053</td>\n",
       "      <td>-0.01376</td>\n",
       "      <td>0.074945</td>\n",
       "      <td>-0.063369</td>\n",
       "      <td>-0.019221</td>\n",
       "      <td>-0.071324</td>\n",
       "    </tr>\n",
       "    <tr>\n",
       "      <th>240133</th>\n",
       "      <td>0.017653</td>\n",
       "      <td>-0.143413</td>\n",
       "      <td>0.016215</td>\n",
       "      <td>0.297495</td>\n",
       "      <td>0.212339</td>\n",
       "      <td>-0.422192</td>\n",
       "      <td>1.073676</td>\n",
       "      <td>0.245910</td>\n",
       "      <td>0.122282</td>\n",
       "      <td>-0.529555</td>\n",
       "      <td>0.829793</td>\n",
       "      <td>-0.688053</td>\n",
       "      <td>-0.887621</td>\n",
       "      <td>-0.159247</td>\n",
       "      <td>0.068295</td>\n",
       "      <td>0.059408</td>\n",
       "      <td>0.004082</td>\n",
       "      <td>-0.025713</td>\n",
       "      <td>-0.154584</td>\n",
       "      <td>-0.056329</td>\n",
       "      <td>-0.006865</td>\n",
       "      <td>-0.022982</td>\n",
       "      <td>-0.038146</td>\n",
       "      <td>-0.028802</td>\n",
       "      <td>-0.041777</td>\n",
       "      <td>-0.075385</td>\n",
       "      <td>-0.025897</td>\n",
       "      <td>-0.086053</td>\n",
       "      <td>-0.01376</td>\n",
       "      <td>-0.136494</td>\n",
       "      <td>-0.063369</td>\n",
       "      <td>-0.019221</td>\n",
       "      <td>-0.071324</td>\n",
       "    </tr>\n",
       "    <tr>\n",
       "      <th>163658</th>\n",
       "      <td>-0.112629</td>\n",
       "      <td>-0.143413</td>\n",
       "      <td>0.090058</td>\n",
       "      <td>0.729017</td>\n",
       "      <td>0.212339</td>\n",
       "      <td>-0.422192</td>\n",
       "      <td>1.073676</td>\n",
       "      <td>1.262244</td>\n",
       "      <td>1.088356</td>\n",
       "      <td>-0.529555</td>\n",
       "      <td>2.212966</td>\n",
       "      <td>-0.368687</td>\n",
       "      <td>0.067976</td>\n",
       "      <td>-0.098802</td>\n",
       "      <td>0.004529</td>\n",
       "      <td>0.034848</td>\n",
       "      <td>0.004040</td>\n",
       "      <td>-0.154230</td>\n",
       "      <td>-0.013494</td>\n",
       "      <td>-0.063579</td>\n",
       "      <td>-0.006865</td>\n",
       "      <td>-0.022982</td>\n",
       "      <td>-0.038146</td>\n",
       "      <td>-0.028802</td>\n",
       "      <td>-0.041777</td>\n",
       "      <td>-0.075385</td>\n",
       "      <td>-0.025897</td>\n",
       "      <td>-0.086053</td>\n",
       "      <td>-0.01376</td>\n",
       "      <td>-0.153778</td>\n",
       "      <td>0.089634</td>\n",
       "      <td>-0.019221</td>\n",
       "      <td>-0.071324</td>\n",
       "    </tr>\n",
       "    <tr>\n",
       "      <th>176954</th>\n",
       "      <td>-0.199483</td>\n",
       "      <td>-0.143413</td>\n",
       "      <td>-0.131470</td>\n",
       "      <td>-0.565550</td>\n",
       "      <td>-0.616045</td>\n",
       "      <td>-0.422192</td>\n",
       "      <td>-0.437077</td>\n",
       "      <td>-0.770424</td>\n",
       "      <td>-0.843792</td>\n",
       "      <td>-0.529555</td>\n",
       "      <td>-0.553380</td>\n",
       "      <td>-0.688053</td>\n",
       "      <td>-0.887621</td>\n",
       "      <td>-0.106060</td>\n",
       "      <td>0.068295</td>\n",
       "      <td>0.116656</td>\n",
       "      <td>0.004082</td>\n",
       "      <td>-0.024697</td>\n",
       "      <td>-0.092124</td>\n",
       "      <td>-0.051421</td>\n",
       "      <td>-0.006865</td>\n",
       "      <td>-0.022982</td>\n",
       "      <td>-0.038146</td>\n",
       "      <td>-0.028802</td>\n",
       "      <td>-0.041777</td>\n",
       "      <td>-0.075385</td>\n",
       "      <td>-0.025897</td>\n",
       "      <td>-0.086053</td>\n",
       "      <td>-0.01376</td>\n",
       "      <td>-0.073726</td>\n",
       "      <td>-0.063369</td>\n",
       "      <td>-0.019221</td>\n",
       "      <td>-0.071324</td>\n",
       "    </tr>\n",
       "    <tr>\n",
       "      <th>69498</th>\n",
       "      <td>-0.156056</td>\n",
       "      <td>-0.082878</td>\n",
       "      <td>-0.131470</td>\n",
       "      <td>0.729017</td>\n",
       "      <td>-0.616045</td>\n",
       "      <td>0.340508</td>\n",
       "      <td>-0.437077</td>\n",
       "      <td>2.278578</td>\n",
       "      <td>-0.843792</td>\n",
       "      <td>0.908770</td>\n",
       "      <td>-0.553380</td>\n",
       "      <td>0.589411</td>\n",
       "      <td>1.979170</td>\n",
       "      <td>-0.089836</td>\n",
       "      <td>0.068295</td>\n",
       "      <td>0.116656</td>\n",
       "      <td>0.004082</td>\n",
       "      <td>-0.015079</td>\n",
       "      <td>-0.079895</td>\n",
       "      <td>-0.040903</td>\n",
       "      <td>-0.006865</td>\n",
       "      <td>-0.022982</td>\n",
       "      <td>-0.038146</td>\n",
       "      <td>-0.028802</td>\n",
       "      <td>-0.041777</td>\n",
       "      <td>-0.075385</td>\n",
       "      <td>-0.025897</td>\n",
       "      <td>-0.086053</td>\n",
       "      <td>-0.01376</td>\n",
       "      <td>-0.054579</td>\n",
       "      <td>-0.063369</td>\n",
       "      <td>-0.019221</td>\n",
       "      <td>-0.071324</td>\n",
       "    </tr>\n",
       "    <tr>\n",
       "      <th>...</th>\n",
       "      <td>...</td>\n",
       "      <td>...</td>\n",
       "      <td>...</td>\n",
       "      <td>...</td>\n",
       "      <td>...</td>\n",
       "      <td>...</td>\n",
       "      <td>...</td>\n",
       "      <td>...</td>\n",
       "      <td>...</td>\n",
       "      <td>...</td>\n",
       "      <td>...</td>\n",
       "      <td>...</td>\n",
       "      <td>...</td>\n",
       "      <td>...</td>\n",
       "      <td>...</td>\n",
       "      <td>...</td>\n",
       "      <td>...</td>\n",
       "      <td>...</td>\n",
       "      <td>...</td>\n",
       "      <td>...</td>\n",
       "      <td>...</td>\n",
       "      <td>...</td>\n",
       "      <td>...</td>\n",
       "      <td>...</td>\n",
       "      <td>...</td>\n",
       "      <td>...</td>\n",
       "      <td>...</td>\n",
       "      <td>...</td>\n",
       "      <td>...</td>\n",
       "      <td>...</td>\n",
       "      <td>...</td>\n",
       "      <td>...</td>\n",
       "      <td>...</td>\n",
       "    </tr>\n",
       "    <tr>\n",
       "      <th>239268</th>\n",
       "      <td>-0.177769</td>\n",
       "      <td>-0.143413</td>\n",
       "      <td>-0.131470</td>\n",
       "      <td>-0.134027</td>\n",
       "      <td>-0.201853</td>\n",
       "      <td>-0.422192</td>\n",
       "      <td>-0.437077</td>\n",
       "      <td>0.245910</td>\n",
       "      <td>0.122282</td>\n",
       "      <td>-0.529555</td>\n",
       "      <td>-0.553380</td>\n",
       "      <td>-0.688053</td>\n",
       "      <td>-0.887621</td>\n",
       "      <td>-0.106144</td>\n",
       "      <td>0.068295</td>\n",
       "      <td>0.110451</td>\n",
       "      <td>0.004082</td>\n",
       "      <td>-0.022837</td>\n",
       "      <td>-0.092124</td>\n",
       "      <td>-0.056240</td>\n",
       "      <td>-0.006865</td>\n",
       "      <td>-0.022982</td>\n",
       "      <td>-0.038146</td>\n",
       "      <td>-0.028802</td>\n",
       "      <td>-0.041777</td>\n",
       "      <td>-0.075385</td>\n",
       "      <td>-0.025897</td>\n",
       "      <td>-0.086053</td>\n",
       "      <td>-0.01376</td>\n",
       "      <td>-0.073825</td>\n",
       "      <td>-0.063369</td>\n",
       "      <td>-0.019221</td>\n",
       "      <td>-0.071324</td>\n",
       "    </tr>\n",
       "    <tr>\n",
       "      <th>116033</th>\n",
       "      <td>-0.199483</td>\n",
       "      <td>-0.143413</td>\n",
       "      <td>-0.131470</td>\n",
       "      <td>-0.565550</td>\n",
       "      <td>-0.616045</td>\n",
       "      <td>-0.422192</td>\n",
       "      <td>-0.437077</td>\n",
       "      <td>-0.770424</td>\n",
       "      <td>-0.843792</td>\n",
       "      <td>-0.529555</td>\n",
       "      <td>-0.553380</td>\n",
       "      <td>-0.688053</td>\n",
       "      <td>-0.887621</td>\n",
       "      <td>-0.105259</td>\n",
       "      <td>0.068295</td>\n",
       "      <td>0.116656</td>\n",
       "      <td>0.004082</td>\n",
       "      <td>-0.022837</td>\n",
       "      <td>-0.092124</td>\n",
       "      <td>-0.051421</td>\n",
       "      <td>-0.006865</td>\n",
       "      <td>-0.022982</td>\n",
       "      <td>-0.038146</td>\n",
       "      <td>-0.028802</td>\n",
       "      <td>-0.041777</td>\n",
       "      <td>-0.075385</td>\n",
       "      <td>-0.025897</td>\n",
       "      <td>-0.086053</td>\n",
       "      <td>-0.01376</td>\n",
       "      <td>-0.072781</td>\n",
       "      <td>-0.063369</td>\n",
       "      <td>-0.019221</td>\n",
       "      <td>-0.071324</td>\n",
       "    </tr>\n",
       "    <tr>\n",
       "      <th>238773</th>\n",
       "      <td>-0.134342</td>\n",
       "      <td>-0.143413</td>\n",
       "      <td>0.533113</td>\n",
       "      <td>1.160539</td>\n",
       "      <td>4.354262</td>\n",
       "      <td>-0.422192</td>\n",
       "      <td>6.361310</td>\n",
       "      <td>1.262244</td>\n",
       "      <td>2.054430</td>\n",
       "      <td>-0.529555</td>\n",
       "      <td>3.596140</td>\n",
       "      <td>0.270045</td>\n",
       "      <td>-0.887621</td>\n",
       "      <td>-0.355428</td>\n",
       "      <td>-0.340934</td>\n",
       "      <td>-0.655012</td>\n",
       "      <td>0.004089</td>\n",
       "      <td>-0.347423</td>\n",
       "      <td>-0.122949</td>\n",
       "      <td>-0.513231</td>\n",
       "      <td>-0.006865</td>\n",
       "      <td>-0.022982</td>\n",
       "      <td>-0.038146</td>\n",
       "      <td>-0.028802</td>\n",
       "      <td>-0.041777</td>\n",
       "      <td>-0.075385</td>\n",
       "      <td>-0.025897</td>\n",
       "      <td>-0.086053</td>\n",
       "      <td>-0.01376</td>\n",
       "      <td>-0.368013</td>\n",
       "      <td>-0.063369</td>\n",
       "      <td>-0.019221</td>\n",
       "      <td>-0.071324</td>\n",
       "    </tr>\n",
       "    <tr>\n",
       "      <th>7527</th>\n",
       "      <td>0.082793</td>\n",
       "      <td>0.098725</td>\n",
       "      <td>0.016215</td>\n",
       "      <td>1.592062</td>\n",
       "      <td>0.626532</td>\n",
       "      <td>2.628608</td>\n",
       "      <td>1.073676</td>\n",
       "      <td>2.278578</td>\n",
       "      <td>1.088356</td>\n",
       "      <td>3.785420</td>\n",
       "      <td>2.212966</td>\n",
       "      <td>0.589411</td>\n",
       "      <td>1.979170</td>\n",
       "      <td>-0.042926</td>\n",
       "      <td>0.066781</td>\n",
       "      <td>0.069100</td>\n",
       "      <td>0.004082</td>\n",
       "      <td>0.036048</td>\n",
       "      <td>-0.050406</td>\n",
       "      <td>-0.038648</td>\n",
       "      <td>-0.006865</td>\n",
       "      <td>-0.022982</td>\n",
       "      <td>-0.038146</td>\n",
       "      <td>-0.028802</td>\n",
       "      <td>-0.041777</td>\n",
       "      <td>-0.075385</td>\n",
       "      <td>-0.025897</td>\n",
       "      <td>-0.086053</td>\n",
       "      <td>-0.01376</td>\n",
       "      <td>0.000782</td>\n",
       "      <td>-0.063369</td>\n",
       "      <td>-0.019221</td>\n",
       "      <td>-0.071324</td>\n",
       "    </tr>\n",
       "    <tr>\n",
       "      <th>11875</th>\n",
       "      <td>-0.177769</td>\n",
       "      <td>-0.143413</td>\n",
       "      <td>0.016215</td>\n",
       "      <td>-0.134027</td>\n",
       "      <td>-0.201853</td>\n",
       "      <td>-0.422192</td>\n",
       "      <td>0.318299</td>\n",
       "      <td>0.245910</td>\n",
       "      <td>0.122282</td>\n",
       "      <td>-0.529555</td>\n",
       "      <td>0.829793</td>\n",
       "      <td>-0.049321</td>\n",
       "      <td>0.067976</td>\n",
       "      <td>-0.110839</td>\n",
       "      <td>0.068295</td>\n",
       "      <td>0.051264</td>\n",
       "      <td>0.004082</td>\n",
       "      <td>-0.000505</td>\n",
       "      <td>-0.092124</td>\n",
       "      <td>-0.134169</td>\n",
       "      <td>-0.006865</td>\n",
       "      <td>-0.022982</td>\n",
       "      <td>-0.038146</td>\n",
       "      <td>-0.028802</td>\n",
       "      <td>-0.041777</td>\n",
       "      <td>-0.075385</td>\n",
       "      <td>-0.025897</td>\n",
       "      <td>-0.086053</td>\n",
       "      <td>-0.01376</td>\n",
       "      <td>-0.079365</td>\n",
       "      <td>-0.063369</td>\n",
       "      <td>-0.019221</td>\n",
       "      <td>-0.071324</td>\n",
       "    </tr>\n",
       "  </tbody>\n",
       "</table>\n",
       "<p>75075 rows × 33 columns</p>\n",
       "</div>"
      ],
      "text/plain": [
       "        no_of_sales_12M_1  no_of_sales_12M_10K  no_of_Redemption_12M_10K  \\\n",
       "228198           0.419353            -0.022344                 -0.131470   \n",
       "240133           0.017653            -0.143413                  0.016215   \n",
       "163658          -0.112629            -0.143413                  0.090058   \n",
       "176954          -0.199483            -0.143413                 -0.131470   \n",
       "69498           -0.156056            -0.082878                 -0.131470   \n",
       "...                   ...                  ...                       ...   \n",
       "239268          -0.177769            -0.143413                 -0.131470   \n",
       "116033          -0.199483            -0.143413                 -0.131470   \n",
       "238773          -0.134342            -0.143413                  0.533113   \n",
       "7527             0.082793             0.098725                  0.016215   \n",
       "11875           -0.177769            -0.143413                  0.016215   \n",
       "\n",
       "        no_of_funds_sold_12M_1  no_of_funds_redeemed_12M_1  \\\n",
       "228198                2.023584                    0.626532   \n",
       "240133                0.297495                    0.212339   \n",
       "163658                0.729017                    0.212339   \n",
       "176954               -0.565550                   -0.616045   \n",
       "69498                 0.729017                   -0.616045   \n",
       "...                        ...                         ...   \n",
       "239268               -0.134027                   -0.201853   \n",
       "116033               -0.565550                   -0.616045   \n",
       "238773                1.160539                    4.354262   \n",
       "7527                  1.592062                    0.626532   \n",
       "11875                -0.134027                   -0.201853   \n",
       "\n",
       "        no_of_fund_sales_12M_10K  no_of_funds_Redemption_12M_10K  \\\n",
       "228198                  0.340508                       -0.437077   \n",
       "240133                 -0.422192                        1.073676   \n",
       "163658                 -0.422192                        1.073676   \n",
       "176954                 -0.422192                       -0.437077   \n",
       "69498                   0.340508                       -0.437077   \n",
       "...                          ...                             ...   \n",
       "239268                 -0.422192                       -0.437077   \n",
       "116033                 -0.422192                       -0.437077   \n",
       "238773                 -0.422192                        6.361310   \n",
       "7527                    2.628608                        1.073676   \n",
       "11875                  -0.422192                        0.318299   \n",
       "\n",
       "        no_of_assetclass_sold_12M_1  no_of_assetclass_redeemed_12M_1  \\\n",
       "228198                     2.278578                         2.054430   \n",
       "240133                     0.245910                         0.122282   \n",
       "163658                     1.262244                         1.088356   \n",
       "176954                    -0.770424                        -0.843792   \n",
       "69498                      2.278578                        -0.843792   \n",
       "...                             ...                              ...   \n",
       "239268                     0.245910                         0.122282   \n",
       "116033                    -0.770424                        -0.843792   \n",
       "238773                     1.262244                         2.054430   \n",
       "7527                       2.278578                         1.088356   \n",
       "11875                      0.245910                         0.122282   \n",
       "\n",
       "        no_of_assetclass_sales_12M_10K  no_of_assetclass_Redemption_12M_10K  \\\n",
       "228198                        0.908770                            -0.553380   \n",
       "240133                       -0.529555                             0.829793   \n",
       "163658                       -0.529555                             2.212966   \n",
       "176954                       -0.529555                            -0.553380   \n",
       "69498                         0.908770                            -0.553380   \n",
       "...                                ...                                  ...   \n",
       "239268                       -0.529555                            -0.553380   \n",
       "116033                       -0.529555                            -0.553380   \n",
       "238773                       -0.529555                             3.596140   \n",
       "7527                          3.785420                             2.212966   \n",
       "11875                        -0.529555                             0.829793   \n",
       "\n",
       "        No_of_fund_curr  No_of_asset_curr       AUM  redemption_curr  \\\n",
       "228198         0.908777          1.979170  0.019918         0.068295   \n",
       "240133        -0.688053         -0.887621 -0.159247         0.068295   \n",
       "163658        -0.368687          0.067976 -0.098802         0.004529   \n",
       "176954        -0.688053         -0.887621 -0.106060         0.068295   \n",
       "69498          0.589411          1.979170 -0.089836         0.068295   \n",
       "...                 ...               ...       ...              ...   \n",
       "239268        -0.688053         -0.887621 -0.106144         0.068295   \n",
       "116033        -0.688053         -0.887621 -0.105259         0.068295   \n",
       "238773         0.270045         -0.887621 -0.355428        -0.340934   \n",
       "7527           0.589411          1.979170 -0.042926         0.066781   \n",
       "11875         -0.049321          0.067976 -0.110839         0.068295   \n",
       "\n",
       "        redemption_12M  redemption_rate  aum_AC_EQUITY  \\\n",
       "228198        0.089322         0.004082       0.041528   \n",
       "240133        0.059408         0.004082      -0.025713   \n",
       "163658        0.034848         0.004040      -0.154230   \n",
       "176954        0.116656         0.004082      -0.024697   \n",
       "69498         0.116656         0.004082      -0.015079   \n",
       "...                ...              ...            ...   \n",
       "239268        0.110451         0.004082      -0.022837   \n",
       "116033        0.116656         0.004082      -0.022837   \n",
       "238773       -0.655012         0.004089      -0.347423   \n",
       "7527          0.069100         0.004082       0.036048   \n",
       "11875         0.051264         0.004082      -0.000505   \n",
       "\n",
       "        aum_AC_FIXED_INCOME_MUNI  aum_AC_FIXED_INCOME_TAXABLE  aum_AC_MONEY  \\\n",
       "228198                 -0.006796                     0.093585     -0.006865   \n",
       "240133                 -0.154584                    -0.056329     -0.006865   \n",
       "163658                 -0.013494                    -0.063579     -0.006865   \n",
       "176954                 -0.092124                    -0.051421     -0.006865   \n",
       "69498                  -0.079895                    -0.040903     -0.006865   \n",
       "...                          ...                          ...           ...   \n",
       "239268                 -0.092124                    -0.056240     -0.006865   \n",
       "116033                 -0.092124                    -0.051421     -0.006865   \n",
       "238773                 -0.122949                    -0.513231     -0.006865   \n",
       "7527                   -0.050406                    -0.038648     -0.006865   \n",
       "11875                  -0.092124                    -0.134169     -0.006865   \n",
       "\n",
       "        aum_AC_MULTIPLE  aum_AC_PHYSICAL_COMMODITY  aum_AC_REAL_ESTATE  \\\n",
       "228198        -0.022982                  -0.038146           -0.028802   \n",
       "240133        -0.022982                  -0.038146           -0.028802   \n",
       "163658        -0.022982                  -0.038146           -0.028802   \n",
       "176954        -0.022982                  -0.038146           -0.028802   \n",
       "69498         -0.022982                  -0.038146           -0.028802   \n",
       "...                 ...                        ...                 ...   \n",
       "239268        -0.022982                  -0.038146           -0.028802   \n",
       "116033        -0.022982                  -0.038146           -0.028802   \n",
       "238773        -0.022982                  -0.038146           -0.028802   \n",
       "7527          -0.022982                  -0.038146           -0.028802   \n",
       "11875         -0.022982                  -0.038146           -0.028802   \n",
       "\n",
       "        aum_AC_TARGET  aum_P_529  aum_P_ALT  aum_P_CEF  aum_P_ETF  aum_P_MF  \\\n",
       "228198      -0.041777  -0.075385  -0.025897  -0.086053   -0.01376  0.074945   \n",
       "240133      -0.041777  -0.075385  -0.025897  -0.086053   -0.01376 -0.136494   \n",
       "163658      -0.041777  -0.075385  -0.025897  -0.086053   -0.01376 -0.153778   \n",
       "176954      -0.041777  -0.075385  -0.025897  -0.086053   -0.01376 -0.073726   \n",
       "69498       -0.041777  -0.075385  -0.025897  -0.086053   -0.01376 -0.054579   \n",
       "...               ...        ...        ...        ...        ...       ...   \n",
       "239268      -0.041777  -0.075385  -0.025897  -0.086053   -0.01376 -0.073825   \n",
       "116033      -0.041777  -0.075385  -0.025897  -0.086053   -0.01376 -0.072781   \n",
       "238773      -0.041777  -0.075385  -0.025897  -0.086053   -0.01376 -0.368013   \n",
       "7527        -0.041777  -0.075385  -0.025897  -0.086053   -0.01376  0.000782   \n",
       "11875       -0.041777  -0.075385  -0.025897  -0.086053   -0.01376 -0.079365   \n",
       "\n",
       "        aum_P_SMA  aum_P_UCITS  aum_P_UIT  \n",
       "228198  -0.063369    -0.019221  -0.071324  \n",
       "240133  -0.063369    -0.019221  -0.071324  \n",
       "163658   0.089634    -0.019221  -0.071324  \n",
       "176954  -0.063369    -0.019221  -0.071324  \n",
       "69498   -0.063369    -0.019221  -0.071324  \n",
       "...           ...          ...        ...  \n",
       "239268  -0.063369    -0.019221  -0.071324  \n",
       "116033  -0.063369    -0.019221  -0.071324  \n",
       "238773  -0.063369    -0.019221  -0.071324  \n",
       "7527    -0.063369    -0.019221  -0.071324  \n",
       "11875   -0.063369    -0.019221  -0.071324  \n",
       "\n",
       "[75075 rows x 33 columns]"
      ]
     },
     "execution_count": 24,
     "metadata": {},
     "output_type": "execute_result"
    }
   ],
   "source": [
    "X_test_prepared"
   ]
  },
  {
   "cell_type": "markdown",
   "metadata": {},
   "source": [
    "[Back to Top](#Index)\n",
    "# Model building\n",
    "- Evaluate baseline model\n",
    "- Create new models\n",
    "- Create evaluation function and cross validate"
   ]
  },
  {
   "cell_type": "code",
   "execution_count": 25,
   "metadata": {},
   "outputs": [],
   "source": [
    "from sklearn.linear_model import LinearRegression\n",
    "from sklearn.tree import DecisionTreeRegressor\n",
    "from sklearn.ensemble import RandomForestRegressor\n",
    "from sklearn.model_selection import RandomizedSearchCV\n",
    "from sklearn.feature_selection import SelectFromModel\n",
    "from sklearn.decomposition import PCA, TruncatedSVD\n",
    "import xgboost as xgb"
   ]
  },
  {
   "cell_type": "code",
   "execution_count": 26,
   "metadata": {},
   "outputs": [
    {
     "data": {
      "text/plain": [
       "LinearRegression()"
      ]
     },
     "execution_count": 26,
     "metadata": {},
     "output_type": "execute_result"
    }
   ],
   "source": [
    "lr = LinearRegression()\n",
    "lr.fit(X_train_prepared, y_train_reg)"
   ]
  },
  {
   "cell_type": "code",
   "execution_count": 27,
   "metadata": {},
   "outputs": [],
   "source": [
    "from sklearn.model_selection import cross_validate"
   ]
  },
  {
   "cell_type": "code",
   "execution_count": 28,
   "metadata": {},
   "outputs": [
    {
     "data": {
      "text/plain": [
       "array([519361.60718704, 580940.66300179, 527752.70541477])"
      ]
     },
     "execution_count": 28,
     "metadata": {},
     "output_type": "execute_result"
    }
   ],
   "source": [
    "-cross_validate(\n",
    "    lr, \n",
    "    X_train_prepared, \n",
    "    y_train_reg, \n",
    "    cv=3, \n",
    "    scoring='neg_root_mean_squared_error', \n",
    "    return_train_score=True\n",
    ")['test_score']"
   ]
  },
  {
   "cell_type": "markdown",
   "metadata": {},
   "source": [
    "Make a plot of predictions vs actual"
   ]
  },
  {
   "cell_type": "code",
   "execution_count": 29,
   "metadata": {},
   "outputs": [],
   "source": [
    "y_test_reg_preds = lr.predict(X_test_prepared)"
   ]
  },
  {
   "cell_type": "code",
   "execution_count": 30,
   "metadata": {},
   "outputs": [
    {
     "data": {
      "image/png": "[encoded data removed]",
      "text/plain": [
       "<Figure size 576x432 with 1 Axes>"
      ]
     },
     "metadata": {
      "needs_background": "light"
     },
     "output_type": "display_data"
    }
   ],
   "source": [
    "fig, axes = plt.subplots(figsize=(8, 6))\n",
    "\n",
    "axes.scatter(x=y_test_reg, y=y_test_reg_preds)\n",
    "\n",
    "axes.plot([0, 70000000], [0,70000000], c='r')\n",
    "axes.set_title(\"Actual vs Predicted - Regression\")\n",
    "axes.set_xlabel(\"Actual\")\n",
    "axes.set_ylabel(\"Predicted\");"
   ]
  },
  {
   "cell_type": "code",
   "execution_count": 31,
   "metadata": {},
   "outputs": [
    {
     "name": "stderr",
     "output_type": "stream",
     "text": [
      "/opt/anaconda3/envs/tf2/lib/python3.7/site-packages/pandas/core/arraylike.py:358: RuntimeWarning: invalid value encountered in log1p\n",
      "  result = getattr(ufunc, method)(*inputs, **kwargs)\n"
     ]
    },
    {
     "data": {
      "image/png": "[encoded data removed]",
      "text/plain": [
       "<Figure size 432x288 with 1 Axes>"
      ]
     },
     "metadata": {
      "needs_background": "light"
     },
     "output_type": "display_data"
    }
   ],
   "source": [
    "np.log1p(y_train_reg).hist(bins=30);"
   ]
  },
  {
   "cell_type": "code",
   "execution_count": 32,
   "metadata": {},
   "outputs": [],
   "source": [
    "def evaluate_model(model, X, y):\n",
    "    print(\"Cross Validation Scores:\")\n",
    "    print(cross_validate(model, X, y, scoring='neg_root_mean_squared_error')['test_score'])\n",
    "    print('-'*55)\n",
    "    preds = model.predict(X)\n",
    "    lim = max(preds.max(), y.max())\n",
    "    fig, ax = plt.subplots(1,1,figsize=(7,5))\n",
    "    ax.scatter(x=y, y=preds, alpha=0.4)\n",
    "    ax.plot([0, 70000000], [0, 70000000])\n",
    "    ax.set_xlim([0, 70000000])\n",
    "    ax.set_ylim([0, 70000000])\n",
    "    ax.set_title(\"Actual vs Predicted - Regression\")\n",
    "    ax.set_xlabel(\"Actual\")\n",
    "    ax.set_ylabel(\"Predicted\");"
   ]
  },
  {
   "cell_type": "code",
   "execution_count": 33,
   "metadata": {},
   "outputs": [
    {
     "name": "stdout",
     "output_type": "stream",
     "text": [
      "Cross Validation Scores:\n",
      "[  -603623.76203374   -463245.02875485   -579273.43385118\n",
      " -56518566.35925348   -553445.14640968]\n",
      "-------------------------------------------------------\n"
     ]
    },
    {
     "data": {
      "image/png": "[encoded data removed]",
      "text/plain": [
       "<Figure size 504x360 with 1 Axes>"
      ]
     },
     "metadata": {
      "needs_background": "light"
     },
     "output_type": "display_data"
    }
   ],
   "source": [
    "evaluate_model(lr, X_test_prepared, y_test_reg)"
   ]
  },
  {
   "cell_type": "code",
   "execution_count": null,
   "metadata": {},
   "outputs": [],
   "source": []
  },
  {
   "cell_type": "code",
   "execution_count": null,
   "metadata": {},
   "outputs": [],
   "source": []
  }
 ],
 "metadata": {
  "kernelspec": {
   "display_name": "Python 3",
   "language": "python",
   "name": "python3"
  },
  "language_info": {
   "codemirror_mode": {
    "name": "ipython",
    "version": 3
   },
   "file_extension": ".py",
   "mimetype": "text/x-python",
   "name": "python",
   "nbconvert_exporter": "python",
   "pygments_lexer": "ipython3",
   "version": "3.7.10"
  }
 },
 "nbformat": 4,
 "nbformat_minor": 4
}
